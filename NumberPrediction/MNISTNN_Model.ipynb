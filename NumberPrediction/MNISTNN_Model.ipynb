{
 "cells": [
  {
   "cell_type": "markdown",
   "id": "a0d7c89b",
   "metadata": {},
   "source": [
    "## NUMBER PREDICTION USING MNIST DATASET\n",
    "### Installing all libraries"
   ]
  },
  {
   "cell_type": "markdown",
   "id": "560c09e8",
   "metadata": {},
   "source": [
    "The following versions have been used to avoid conflicts with streamlit.io.cloud and maintain compatibility with tensorflow:\n",
    "* `streamlit`==1.32.0\n",
    "* `tensorflow`==2.12.0\n",
    "* `pillow`==9.5.0\n",
    "* `numpy`==1.23.5\n",
    "* `streamlit-drawable-canvas`==0.9.2"
   ]
  },
  {
   "cell_type": "code",
   "execution_count": null,
   "id": "cdb0c1a9",
   "metadata": {},
   "outputs": [],
   "source": [
    "import os\n",
    "import numpy as np\n",
    "import tensorflow as tf\n",
    "from tensorflow.keras.datasets import mnist, cifar10\n",
    "from tensorflow.keras.utils import to_categorical\n",
    "from tensorflow.keras.models import Sequential, load_model\n",
    "from tensorflow.keras.layers import Dense, Flatten, Conv2D, MaxPooling2D, Dropout\n",
    "from sklearn.model_selection import train_test_split\n",
    "from sklearn.preprocessing import StandardScaler"
   ]
  },
  {
   "cell_type": "markdown",
   "id": "bacd27a7",
   "metadata": {},
   "source": [
    "**Concept:** A tensorflow neural network with following architecture is build, trained on MNIST dataset available from tensorflow itself"
   ]
  },
  {
   "cell_type": "code",
   "execution_count": null,
   "id": "516f0f8f",
   "metadata": {},
   "outputs": [],
   "source": [
    "\"\"\" ITS SIMPLE, DON'T WORRY!!\"\"\"\n",
    "(x_train,y_train),(x_test,y_test)=mnist.load_data()\n",
    "\n",
    "# Normalising data\n",
    "\"\"\"For RGB images, channels would be 3; for grayscale like MNIST, it’s 1\n",
    "Raw MNIST images are in uint8 format (integers from 0 to 255),\n",
    "Deep learning models expect input in float32\n",
    "After dividing by 255: values range from 0.0 to 1.0.\"\"\"\n",
    "\n",
    "x_train=x_train.reshape(-1,28,28,1).astype(\"float32\")/255.0 # (height, width, channels)\n",
    "x_test=x_test.reshape(-1,28,28,1).astype(\"float32\")/255.0\n",
    "\n",
    "# One hot encoding\n",
    "y_train=to_categorical(y_train,10)\n",
    "y_test=to_categorical(y_test,10)\n",
    "#print(f\"Training data shape: {x_train.shape}\\nTest data shape: {x_test.shape}\")\n",
    "\n",
    "# Building model with following architecture\n",
    "model = Sequential([\n",
    "    Conv2D(32, (3, 3), activation='relu', input_shape=(28, 28, 1)),\n",
    "    Conv2D(64, (3, 3), activation='relu'),\n",
    "    MaxPooling2D(pool_size=(2, 2)),\n",
    "    Dropout(0.25),\n",
    "\n",
    "    Conv2D(128, (3, 3), activation='relu'),\n",
    "    MaxPooling2D(pool_size=(2, 2)),\n",
    "    Dropout(0.25),\n",
    "\n",
    "    Flatten(),\n",
    "    Dense(128, activation='relu'),\n",
    "    Dropout(0.5),\n",
    "    Dense(10, activation='softmax')\n",
    "])\n",
    "# print(model.summary())\n",
    "model.compile(\n",
    "    optimizer=\"adam\",\n",
    "    loss=\"categorical_crossentropy\",\n",
    "    metrics=[\"accuracy\"]\n",
    ")\n",
    "model.fit(\n",
    "    x_train,y_train,\n",
    "    epochs=10,\n",
    "    batch_size=32,\n",
    "    validation_split=0.2,\n",
    "    verbose=0\n",
    ")\n",
    "loss, acc=model.evaluate(x_test,y_test)\n",
    "print(f\"Test Accuracy: {acc:.4f}\")\n",
    "# This model will be further used in number prediction...Saves time!\n",
    "# May take 10-15 mins...HEHE!!\n",
    "model.save(\"mnist_model12.h5\")\n",
    "# Model saved, HEHE!!"
   ]
  }
 ],
 "metadata": {
  "language_info": {
   "name": "python"
  }
 },
 "nbformat": 4,
 "nbformat_minor": 5
}
